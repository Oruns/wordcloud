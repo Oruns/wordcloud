import pandas as pd
from wordcloud import WordCloud
import matplotlib.pyplot as plt

#csv document for analysis
df = pd.read_csv('vgsales.csv')
df = df.drop(columns=['NA_Sales', 'EU_Sales', 'JP_Sales',
                     'Other_Sales', 'Global_Sales', 'Year', 'Rank'])

#sort the values according to the COLUMN to analyze
df = df.sort_values(by='Publisher', ascending=True)

#create a string containing words in the 'Publisher' column
text = " ".join(str(name) for name in df.Publisher)

#generate the wordcloud object
wc = WordCloud(background_color='white', min_font_size=8).generate(text)
plt.figure() #create the figure object to draw on
plt.imshow(wc, interpolation='bicubic') #plot wc on the figure object
plt.axis('off') #turn off the xy axis
plt.show()
